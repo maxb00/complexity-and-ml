{
 "cells": [
  {
   "cell_type": "markdown",
   "metadata": {},
   "source": [
    "# For getting Naive definitons with Curie\n",
    "Includes a fully explored N^2 naive algorithm that returns the best pairing that 'defines' a single word. Revised attempt looks at less pairings, and includes a revised vocabulary to avoid plurals - in an effort to get a clean top 10 with no orthographic influences or self-referential definitions."
   ]
  },
  {
   "cell_type": "code",
   "execution_count": 3,
   "metadata": {},
   "outputs": [],
   "source": [
    "import os\n",
    "import openai\n",
    "import numpy as np\n",
    "\n",
    "from sklearn.metrics.pairwise import cosine_similarity\n",
    "from tqdm.notebook import tqdm\n",
    "\n",
    "# api key set in conda env.\n",
    "openai.api_key = os.getenv('OPENAI_API_KEY')"
   ]
  },
  {
   "attachments": {},
   "cell_type": "markdown",
   "metadata": {},
   "source": [
    "## Load Model Cache\n",
    "Standard inclusion based on earlier tests are OpenAI's GPT-3 Curie embeddings."
   ]
  },
  {
   "cell_type": "code",
   "execution_count": null,
   "metadata": {},
   "outputs": [],
   "source": [
    "cached_models = ['curie', 'ada', 'babbage', 'davinci']\n",
    "\n",
    "########################\n",
    "# CHANGE MODEL HERE!!! #\n",
    "########################\n",
    "version = 'curie'   \n",
    "\n",
    "# must be one of 'cached_models'\n",
    "assert version in cached_models"
   ]
  },
  {
   "cell_type": "code",
   "execution_count": null,
   "metadata": {},
   "outputs": [],
   "source": [
    "# load vocabulary words\n",
    "\n",
    "vocab = [line.strip() for line in open('./vocab/expanded_vocab.txt', 'r')]\n",
    "gpt_embeds = [\n",
    "    [float(x) for x in line.strip().split()]\n",
    "    for line in open(f'./gpt/gpt_{version}.txt', 'r')\n",
    "]\n",
    "\n",
    "model_gpt = dict(zip(vocab, gpt_embeds))"
   ]
  },
  {
   "cell_type": "code",
   "execution_count": 6,
   "metadata": {},
   "outputs": [],
   "source": [
    "# for getting new embeddings from OpenAI\n",
    "def gpt_embed(text, engine='text-similarity-curie-001'):\n",
    "    text = text.replace('\\n', ' ')\n",
    "    return openai.Embedding.create(input=[text], engine=engine)['data'][0]['embedding']"
   ]
  },
  {
   "cell_type": "markdown",
   "metadata": {},
   "source": [
    "## Helpers\n",
    "Positive and new algorithm(s)."
   ]
  },
  {
   "cell_type": "code",
   "execution_count": 7,
   "metadata": {},
   "outputs": [],
   "source": [
    "def positive(words):\n",
    "    \"\"\"\n",
    "    Args:\n",
    "        words: iterable\n",
    "    Returns:\n",
    "        Positive (summed vectors) of word embeddings of a given list of words.\n",
    "    \"\"\"\n",
    "    if isinstance(words, str):\n",
    "        print(f\"You requested the positive of the string \\\"{words}\\\". Did you mean [\\\"{words}\\\"]?\")\n",
    "\n",
    "    out = 0\n",
    "    for token in words:\n",
    "        # convert token to string\n",
    "        word = str(token)        \n",
    "        # look for token in cached GPT embeds\n",
    "        if word in vocab:\n",
    "            ex = model_gpt[word]  # ex for \"extracted\"\n",
    "        # if not found, query API\n",
    "        else:\n",
    "            ex = gpt_embed(word)\n",
    "            model_gpt[word] = ex\n",
    "        \n",
    "\n",
    "        # construct positive\n",
    "        if isinstance(out, int):\n",
    "            out = np.array(ex).reshape(1, -1)\n",
    "        else:\n",
    "            out += np.array(ex).reshape(1, -1)\n",
    "            \n",
    "    return out if not isinstance(out, int) else np.array([])"
   ]
  },
  {
   "cell_type": "code",
   "execution_count": 8,
   "metadata": {},
   "outputs": [],
   "source": [
    "def naive_def(word):\n",
    "    \"\"\"\n",
    "    Args:\n",
    "        word: str   -> Single word to define\n",
    "    Returns:\n",
    "        A single tuple of words a when summed are closest to the target, not including the target.\n",
    "    \"\"\"\n",
    "    best = (None, None)\n",
    "    best_score = -1\n",
    "\n",
    "    target = positive([word])\n",
    "    for i in tqdm(range(len(vocab))):\n",
    "        w1 = vocab[i]\n",
    "        if w1 != word:\n",
    "            for w2 in vocab:\n",
    "                if w2 != word:\n",
    "                    p = positive([w1, w2])\n",
    "                    score = cosine_similarity(target, p)\n",
    "                    if score > best_score:\n",
    "                        best = (w1, w2)\n",
    "                        best_score = score\n",
    "    \n",
    "    return (best, best_score)"
   ]
  },
  {
   "cell_type": "markdown",
   "metadata": {},
   "source": [
    "## Tests"
   ]
  },
  {
   "cell_type": "code",
   "execution_count": 11,
   "metadata": {},
   "outputs": [
    {
     "data": {
      "application/vnd.jupyter.widget-view+json": {
       "model_id": "ce9cdd6602be4a7aa6f84e9484d05510",
       "version_major": 2,
       "version_minor": 0
      },
      "text/plain": [
       "  0%|          | 0/5124 [00:00<?, ?it/s]"
      ]
     },
     "metadata": {},
     "output_type": "display_data"
    },
    {
     "data": {
      "text/plain": [
       "(('dog', 'kitten'), array([[0.93234583]]))"
      ]
     },
     "execution_count": 11,
     "metadata": {},
     "output_type": "execute_result"
    }
   ],
   "source": [
    "naive_def('puppy')"
   ]
  },
  {
   "cell_type": "code",
   "execution_count": 12,
   "metadata": {},
   "outputs": [
    {
     "data": {
      "application/vnd.jupyter.widget-view+json": {
       "model_id": "d9c6ecaade524ec491c931fd7cb452af",
       "version_major": 2,
       "version_minor": 0
      },
      "text/plain": [
       "  0%|          | 0/5124 [00:00<?, ?it/s]"
      ]
     },
     "metadata": {},
     "output_type": "display_data"
    },
    {
     "data": {
      "text/plain": [
       "(('kingdom', 'royal'), array([[0.94391248]]))"
      ]
     },
     "execution_count": 12,
     "metadata": {},
     "output_type": "execute_result"
    }
   ],
   "source": [
    "naive_def('king')"
   ]
  },
  {
   "cell_type": "code",
   "execution_count": 7,
   "metadata": {},
   "outputs": [
    {
     "data": {
      "application/vnd.jupyter.widget-view+json": {
       "model_id": "27a79a36eb4d4bae9c5dddb0565f6bd7",
       "version_major": 2,
       "version_minor": 0
      },
      "text/plain": [
       "  0%|          | 0/5124 [00:00<?, ?it/s]"
      ]
     },
     "metadata": {},
     "output_type": "display_data"
    },
    {
     "data": {
      "text/plain": [
       "(('duck', 'youngster'), array([[0.92606453]]))"
      ]
     },
     "execution_count": 7,
     "metadata": {},
     "output_type": "execute_result"
    }
   ],
   "source": [
    "naive_def('duckling')"
   ]
  },
  {
   "cell_type": "code",
   "execution_count": 8,
   "metadata": {},
   "outputs": [
    {
     "data": {
      "application/vnd.jupyter.widget-view+json": {
       "model_id": "c6068da7971d4332b9180c84ed27e732",
       "version_major": 2,
       "version_minor": 0
      },
      "text/plain": [
       "  0%|          | 0/5124 [00:00<?, ?it/s]"
      ]
     },
     "metadata": {},
     "output_type": "display_data"
    },
    {
     "data": {
      "text/plain": [
       "(('colony', 'gun'), array([[0.88549887]]))"
      ]
     },
     "execution_count": 8,
     "metadata": {},
     "output_type": "execute_result"
    }
   ],
   "source": [
    "naive_def('colt')"
   ]
  },
  {
   "cell_type": "code",
   "execution_count": 9,
   "metadata": {},
   "outputs": [
    {
     "data": {
      "application/vnd.jupyter.widget-view+json": {
       "model_id": "a733a0bb27c84764bb725f6969a5e803",
       "version_major": 2,
       "version_minor": 0
      },
      "text/plain": [
       "  0%|          | 0/5124 [00:00<?, ?it/s]"
      ]
     },
     "metadata": {},
     "output_type": "display_data"
    },
    {
     "data": {
      "text/plain": [
       "(('horse', 'pink'), array([[0.87398292]]))"
      ]
     },
     "execution_count": 9,
     "metadata": {},
     "output_type": "execute_result"
    }
   ],
   "source": [
    "naive_def('filly')"
   ]
  },
  {
   "cell_type": "code",
   "execution_count": 10,
   "metadata": {},
   "outputs": [
    {
     "data": {
      "application/vnd.jupyter.widget-view+json": {
       "model_id": "5d6b9c2fcaf3434690317252d6e70282",
       "version_major": 2,
       "version_minor": 0
      },
      "text/plain": [
       "  0%|          | 0/5124 [00:00<?, ?it/s]"
      ]
     },
     "metadata": {},
     "output_type": "display_data"
    },
    {
     "data": {
      "text/plain": [
       "(('horse', 'puppy'), array([[0.90931456]]))"
      ]
     },
     "execution_count": 10,
     "metadata": {},
     "output_type": "execute_result"
    }
   ],
   "source": [
    "naive_def('foal')"
   ]
  },
  {
   "cell_type": "code",
   "execution_count": 11,
   "metadata": {},
   "outputs": [
    {
     "data": {
      "application/vnd.jupyter.widget-view+json": {
       "model_id": "af82d4b3ab6c47e59b71817f487830be",
       "version_major": 2,
       "version_minor": 0
      },
      "text/plain": [
       "  0%|          | 0/5124 [00:00<?, ?it/s]"
      ]
     },
     "metadata": {},
     "output_type": "display_data"
    },
    {
     "data": {
      "text/plain": [
       "(('husbands', 'spouse'), array([[0.95122498]]))"
      ]
     },
     "execution_count": 11,
     "metadata": {},
     "output_type": "execute_result"
    }
   ],
   "source": [
    "naive_def('husband')"
   ]
  },
  {
   "cell_type": "code",
   "execution_count": 12,
   "metadata": {},
   "outputs": [
    {
     "data": {
      "application/vnd.jupyter.widget-view+json": {
       "model_id": "1f9e14b7411546d48b5f3bbcc7c215b2",
       "version_major": 2,
       "version_minor": 0
      },
      "text/plain": [
       "  0%|          | 0/5124 [00:00<?, ?it/s]"
      ]
     },
     "metadata": {},
     "output_type": "display_data"
    },
    {
     "data": {
      "text/plain": [
       "(('spouse', 'wives'), array([[0.95503364]]))"
      ]
     },
     "execution_count": 12,
     "metadata": {},
     "output_type": "execute_result"
    }
   ],
   "source": [
    "naive_def('wife')"
   ]
  },
  {
   "cell_type": "code",
   "execution_count": 13,
   "metadata": {},
   "outputs": [
    {
     "data": {
      "application/vnd.jupyter.widget-view+json": {
       "model_id": "86effa11835c4033a938484623d29a17",
       "version_major": 2,
       "version_minor": 0
      },
      "text/plain": [
       "  0%|          | 0/5124 [00:00<?, ?it/s]"
      ]
     },
     "metadata": {},
     "output_type": "display_data"
    },
    {
     "data": {
      "text/plain": [
       "(('democratic', 'politics'), array([[0.95029931]]))"
      ]
     },
     "execution_count": 13,
     "metadata": {},
     "output_type": "execute_result"
    }
   ],
   "source": [
    "naive_def('democracy')"
   ]
  },
  {
   "cell_type": "code",
   "execution_count": 7,
   "metadata": {},
   "outputs": [
    {
     "data": {
      "application/vnd.jupyter.widget-view+json": {
       "model_id": "eedb853db0ff4772847144f5363e602d",
       "version_major": 2,
       "version_minor": 0
      },
      "text/plain": [
       "  0%|          | 0/5124 [00:00<?, ?it/s]"
      ]
     },
     "metadata": {},
     "output_type": "display_data"
    },
    {
     "data": {
      "text/plain": [
       "(('information', 'know'), array([[0.94435854]]))"
      ]
     },
     "execution_count": 7,
     "metadata": {},
     "output_type": "execute_result"
    }
   ],
   "source": [
    "naive_def('knowledge')"
   ]
  },
  {
   "cell_type": "code",
   "execution_count": 8,
   "metadata": {},
   "outputs": [
    {
     "data": {
      "application/vnd.jupyter.widget-view+json": {
       "model_id": "a14e6a63899140428a21c9211a9408c7",
       "version_major": 2,
       "version_minor": 0
      },
      "text/plain": [
       "  0%|          | 0/5124 [00:00<?, ?it/s]"
      ]
     },
     "metadata": {},
     "output_type": "display_data"
    },
    {
     "data": {
      "text/plain": [
       "(('energy', 'powerful'), array([[0.93467298]]))"
      ]
     },
     "execution_count": 8,
     "metadata": {},
     "output_type": "execute_result"
    }
   ],
   "source": [
    "naive_def('power')"
   ]
  },
  {
   "cell_type": "code",
   "execution_count": 9,
   "metadata": {},
   "outputs": [
    {
     "data": {
      "application/vnd.jupyter.widget-view+json": {
       "model_id": "18127a6d441a440c8b8a34353043f29f",
       "version_major": 2,
       "version_minor": 0
      },
      "text/plain": [
       "  0%|          | 0/5124 [00:00<?, ?it/s]"
      ]
     },
     "metadata": {},
     "output_type": "display_data"
    },
    {
     "data": {
      "text/plain": [
       "(('free', 'liberty'), array([[0.94837923]]))"
      ]
     },
     "execution_count": 9,
     "metadata": {},
     "output_type": "execute_result"
    }
   ],
   "source": [
    "naive_def('freedom')"
   ]
  },
  {
   "cell_type": "markdown",
   "metadata": {},
   "source": [
    "# Revising our approach\n",
    "What if we want to filter for plurals and orthographic similarity?"
   ]
  },
  {
   "cell_type": "code",
   "execution_count": 9,
   "metadata": {},
   "outputs": [],
   "source": [
    "import inflect\n",
    "\n",
    "en = inflect.engine()\n",
    "plural = en.plural"
   ]
  },
  {
   "cell_type": "code",
   "execution_count": 10,
   "metadata": {},
   "outputs": [
    {
     "data": {
      "text/plain": [
       "43"
      ]
     },
     "execution_count": 10,
     "metadata": {},
     "output_type": "execute_result"
    }
   ],
   "source": [
    "# preprocess vocabulary\n",
    "helper = set(vocab)\n",
    "removed = set()\n",
    "for word in vocab:\n",
    "    # naively assume each word is singular, pluralize it\n",
    "    p = plural(word, count=2)\n",
    "    # then try and remove it from helper\n",
    "    comp = en.compare(word, p)\n",
    "    flag = str(comp)[0] != 'p' # this flags that word is a plural.\n",
    "    flag2 = p != word\n",
    "    if flag and flag2 and p in helper:\n",
    "        helper.remove(p)\n",
    "        removed.add(p)\n",
    "\n",
    "# a few words I want to keep\n",
    "removed -= set(['her', 'his', 'media', 'offspring', 'our', 'some', 'them', 'us'])\n",
    "\n",
    "len(removed)"
   ]
  },
  {
   "cell_type": "code",
   "execution_count": 11,
   "metadata": {},
   "outputs": [],
   "source": [
    "def revised(word, top_n=10):\n",
    "    \"\"\"\n",
    "    Args:\n",
    "        word: str   -> Single word to define\n",
    "        top_n: int  -> Number of best solutions to return. Defualt 10.\n",
    "    Return:\n",
    "        N 2-word definition pairs, ordered by similarity to word.\n",
    "    \"\"\"\n",
    "    history = []\n",
    "    target = positive([word])\n",
    "    for i in tqdm(range(len(vocab))):\n",
    "        w1 = vocab[i]\n",
    "        if w1 == word:\n",
    "            continue\n",
    "        elif w1[:3] == word[:3]:\n",
    "            continue\n",
    "        elif w1 in removed:\n",
    "            continue\n",
    "        for j in range(i+1, len(vocab)):\n",
    "            w2 = vocab[j]\n",
    "            if w2 == word:\n",
    "                continue\n",
    "            elif word[:3] == w2[:3]:\n",
    "                continue\n",
    "            elif w2 in removed:\n",
    "                continue\n",
    "            p = positive([w1, w2])\n",
    "            history.append(((w1, w2), cosine_similarity(target, p)[0][0]))\n",
    "    history.sort(key=lambda x: x[1], reverse=True)\n",
    "    return history[:top_n]\n"
   ]
  },
  {
   "cell_type": "markdown",
   "metadata": {},
   "source": [
    "## Revised Tests"
   ]
  },
  {
   "cell_type": "code",
   "execution_count": 17,
   "metadata": {},
   "outputs": [
    {
     "data": {
      "application/vnd.jupyter.widget-view+json": {
       "model_id": "427b864859d4436a8335bb923b3ca54f",
       "version_major": 2,
       "version_minor": 0
      },
      "text/plain": [
       "  0%|          | 0/5124 [00:00<?, ?it/s]"
      ]
     },
     "metadata": {},
     "output_type": "display_data"
    },
    {
     "data": {
      "text/plain": [
       "[(('spouse', 'woman'), 0.9490044420671463),\n",
       " (('mom', 'spouse'), 0.9451272979217846),\n",
       " (('girlfriend', 'spouse'), 0.9431745566021604),\n",
       " (('mother', 'spouse'), 0.9422091569360935),\n",
       " (('husband', 'woman'), 0.941394252063441),\n",
       " (('daughter', 'spouse'), 0.940908311622211),\n",
       " (('she', 'spouse'), 0.9407795707978326),\n",
       " (('her', 'spouse'), 0.9391922179783434),\n",
       " (('female', 'husband'), 0.9390003756779074),\n",
       " (('female', 'spouse'), 0.9389518874523621)]"
      ]
     },
     "execution_count": 17,
     "metadata": {},
     "output_type": "execute_result"
    }
   ],
   "source": [
    "revised('wife')"
   ]
  },
  {
   "cell_type": "code",
   "execution_count": 12,
   "metadata": {},
   "outputs": [
    {
     "data": {
      "application/vnd.jupyter.widget-view+json": {
       "model_id": "28f3347cfa1141f6a9d3a6bd6ce5a933",
       "version_major": 2,
       "version_minor": 0
      },
      "text/plain": [
       "  0%|          | 0/5124 [00:00<?, ?it/s]"
      ]
     },
     "metadata": {},
     "output_type": "display_data"
    },
    {
     "data": {
      "text/plain": [
       "[(('information', 'wisdom'), 0.9344556983307687),\n",
       " (('educated', 'information'), 0.9301229403506701),\n",
       " (('expertise', 'information'), 0.9282263377748319),\n",
       " (('information', 'learn'), 0.9270306287947265),\n",
       " (('information', 'skill'), 0.9249491419435476),\n",
       " (('education', 'information'), 0.9233592957319934),\n",
       " (('information', 'intelligence'), 0.9231884112172934),\n",
       " (('experience', 'information'), 0.919848501273665),\n",
       " (('intelligence', 'learn'), 0.9195736608320553),\n",
       " (('learn', 'wisdom'), 0.9195502197152241)]"
      ]
     },
     "execution_count": 12,
     "metadata": {},
     "output_type": "execute_result"
    }
   ],
   "source": [
    "revised('knowledge')"
   ]
  },
  {
   "cell_type": "code",
   "execution_count": 13,
   "metadata": {},
   "outputs": [
    {
     "data": {
      "application/vnd.jupyter.widget-view+json": {
       "model_id": "319a444506464bfb9c06328d24a8bd66",
       "version_major": 2,
       "version_minor": 0
      },
      "text/plain": [
       "  0%|          | 0/5124 [00:00<?, ?it/s]"
      ]
     },
     "metadata": {},
     "output_type": "display_data"
    },
    {
     "data": {
      "text/plain": [
       "[(('independence', 'liberty'), 0.9460416201754811),\n",
       " (('autonomy', 'liberty'), 0.9360640535980851),\n",
       " (('independence', 'liberation'), 0.9355306931804426),\n",
       " (('liberation', 'liberty'), 0.9327702330582146),\n",
       " (('independent', 'liberty'), 0.9309475506521084),\n",
       " (('liberty', 'peace'), 0.9292784041687647),\n",
       " (('equality', 'liberty'), 0.9260784859588916),\n",
       " (('autonomy', 'liberation'), 0.9257240773233195),\n",
       " (('flying', 'liberty'), 0.9256740391137868),\n",
       " (('democracy', 'liberty'), 0.9252529459369601)]"
      ]
     },
     "execution_count": 13,
     "metadata": {},
     "output_type": "execute_result"
    }
   ],
   "source": [
    "revised('freedom')"
   ]
  },
  {
   "cell_type": "code",
   "execution_count": 14,
   "metadata": {},
   "outputs": [
    {
     "data": {
      "application/vnd.jupyter.widget-view+json": {
       "model_id": "a0a0342b02804e6fb90f647b2093ff03",
       "version_major": 2,
       "version_minor": 0
      },
      "text/plain": [
       "  0%|          | 0/5124 [00:00<?, ?it/s]"
      ]
     },
     "metadata": {},
     "output_type": "display_data"
    },
    {
     "data": {
      "text/plain": [
       "[(('match', 'play'), 0.9299215398368388),\n",
       " (('movie', 'play'), 0.9244395739026691),\n",
       " (('play', 'season'), 0.9226037229848301),\n",
       " (('play', 'video'), 0.9225954325462797),\n",
       " (('league', 'play'), 0.9208120324557445),\n",
       " (('battle', 'play'), 0.9201056850323821),\n",
       " (('card', 'play'), 0.9196154107586885),\n",
       " (('play', 'war'), 0.9192219379670766),\n",
       " (('play', 'system'), 0.919198622954665),\n",
       " (('play', 'series'), 0.9187261811046574)]"
      ]
     },
     "execution_count": 14,
     "metadata": {},
     "output_type": "execute_result"
    }
   ],
   "source": [
    "revised('game')"
   ]
  },
  {
   "cell_type": "code",
   "execution_count": 15,
   "metadata": {},
   "outputs": [
    {
     "data": {
      "application/vnd.jupyter.widget-view+json": {
       "model_id": "f5337c874ab74d3abaf5885afe0aaaeb",
       "version_major": 2,
       "version_minor": 0
      },
      "text/plain": [
       "  0%|          | 0/5124 [00:00<?, ?it/s]"
      ]
     },
     "metadata": {},
     "output_type": "display_data"
    },
    {
     "data": {
      "text/plain": [
       "[(('purple', 'sky'), 0.9170853147859979),\n",
       " (('green', 'sky'), 0.9147051675658069),\n",
       " (('green', 'purple'), 0.9144565596515887),\n",
       " (('purple', 'red'), 0.9133029393295535),\n",
       " (('red', 'sky'), 0.9113895169353857),\n",
       " (('green', 'pink'), 0.9113040744755146),\n",
       " (('purple', 'sea'), 0.9108040793109244),\n",
       " (('purple', 'white'), 0.9105541976880726),\n",
       " (('green', 'red'), 0.9100885187760515),\n",
       " (('bay', 'purple'), 0.908963074207327)]"
      ]
     },
     "execution_count": 15,
     "metadata": {},
     "output_type": "execute_result"
    }
   ],
   "source": [
    "revised('blue')"
   ]
  },
  {
   "cell_type": "code",
   "execution_count": 16,
   "metadata": {},
   "outputs": [
    {
     "data": {
      "application/vnd.jupyter.widget-view+json": {
       "model_id": "61afd9946a714d7da29b4fb1a8375197",
       "version_major": 2,
       "version_minor": 0
      },
      "text/plain": [
       "  0%|          | 0/5124 [00:00<?, ?it/s]"
      ]
     },
     "metadata": {},
     "output_type": "display_data"
    },
    {
     "data": {
      "text/plain": [
       "[(('master', 'royal'), 0.9274129774057194),\n",
       " (('leader', 'royal'), 0.925168403450632),\n",
       " (('prince', 'queen'), 0.9245663704502171),\n",
       " (('father', 'royal'), 0.9241330645930963),\n",
       " (('prince', 'reign'), 0.9226733705712508),\n",
       " (('chief', 'royal'), 0.9221475518084659),\n",
       " (('president', 'royal'), 0.9219856900322241),\n",
       " (('prince', 'royal'), 0.9217847390383622),\n",
       " (('master', 'prince'), 0.9213879036365092),\n",
       " (('prince', 'ruling'), 0.9212197841987075)]"
      ]
     },
     "execution_count": 16,
     "metadata": {},
     "output_type": "execute_result"
    }
   ],
   "source": [
    "revised('king')"
   ]
  }
 ],
 "metadata": {
  "interpreter": {
   "hash": "1a58f2b50cba0e3ef60ddaac0060fcc6c1f1afd3fbbcd44f07b68475f7ee4549"
  },
  "kernelspec": {
   "display_name": "Python 3.9.12 64-bit",
   "name": "python3"
  },
  "language_info": {
   "codemirror_mode": {
    "name": "ipython",
    "version": 3
   },
   "file_extension": ".py",
   "mimetype": "text/x-python",
   "name": "python",
   "nbconvert_exporter": "python",
   "pygments_lexer": "ipython3",
   "version": "3.9.12"
  },
  "orig_nbformat": 4
 },
 "nbformat": 4,
 "nbformat_minor": 2
}
