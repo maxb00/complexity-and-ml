{
 "cells": [
  {
   "cell_type": "markdown",
   "metadata": {},
   "source": [
    "# Better Definitions\n",
    "Includes the revisied algorithm from `naive_def.ipynb`, a method for swapping between most model sizes tested, and a larger set of interesting definitions by default."
   ]
  },
  {
   "cell_type": "code",
   "execution_count": 1,
   "metadata": {},
   "outputs": [],
   "source": [
    "import os\n",
    "import openai\n",
    "import inflect\n",
    "import numpy as np\n",
    "\n",
    "from sklearn.metrics.pairwise import cosine_similarity\n",
    "from tqdm.notebook import tqdm\n",
    "\n",
    "openai.api_key = os.getenv('OPENAI_API_KEY')\n",
    "en = inflect.engine()\n",
    "plural = en.plural"
   ]
  },
  {
   "cell_type": "markdown",
   "metadata": {},
   "source": [
    "## Load Model Cache\n",
    "Standard inclusion based on earlier tests are OpenAI's GPT-3 Curie embeddings."
   ]
  },
  {
   "cell_type": "code",
   "execution_count": 2,
   "metadata": {},
   "outputs": [],
   "source": [
    "cached_models = ['curie', 'ada', 'babbage', 'davinci']\n",
    "\n",
    "########################\n",
    "# CHANGE MODEL HERE!!! #\n",
    "########################\n",
    "version = 'curie'   \n",
    "\n",
    "# must be one of 'cached_models'\n",
    "assert version in cached_models"
   ]
  },
  {
   "cell_type": "code",
   "execution_count": 3,
   "metadata": {},
   "outputs": [],
   "source": [
    "vocab = [line.strip() for line in open('./vocab/expanded_vocab.txt', 'r')]\n",
    "gpt_embeds = [\n",
    "    [float(x) for x in line.strip().split()]\n",
    "    for line in open(f'./gpt/gpt_{version}.txt', 'r')\n",
    "]\n",
    "\n",
    "model_gpt = dict(zip(vocab, gpt_embeds))"
   ]
  },
  {
   "cell_type": "code",
   "execution_count": 4,
   "metadata": {},
   "outputs": [],
   "source": [
    "#########################\n",
    "# Preprocess vocabulary #\n",
    "#########################\n",
    "\n",
    "helper = set(vocab)\n",
    "removed = set()\n",
    "for word in vocab:\n",
    "    # naively assume each word is singular, pluralize it\n",
    "    p = plural(word, count=2)\n",
    "    # then try and remove it from helper\n",
    "    comp = en.compare(word, p)\n",
    "    flag = str(comp)[0] != 'p' # this flags that word is a plural.\n",
    "    flag2 = p != word\n",
    "    if flag and flag2 and p in helper:\n",
    "        helper.remove(p)\n",
    "        removed.add(p)\n",
    "\n",
    "# a few words we want to keep:\n",
    "removed -= set(['her', 'his', 'media', 'offspring', 'our', 'some', 'them', 'us'])\n",
    "\n",
    "# len(removed)"
   ]
  },
  {
   "cell_type": "markdown",
   "metadata": {},
   "source": [
    "## Helpers"
   ]
  },
  {
   "cell_type": "code",
   "execution_count": 5,
   "metadata": {},
   "outputs": [],
   "source": [
    "# for getting new embeddings from OpenAI\n",
    "def gpt_embed(text, engine=f'text-similarity-{version}-001'):\n",
    "    text = text.replace('\\n', ' ')\n",
    "    return openai.Embedding.create(input=[text], engine=engine)['data'][0]['embedding']"
   ]
  },
  {
   "cell_type": "code",
   "execution_count": 6,
   "metadata": {},
   "outputs": [],
   "source": [
    "def positive(words):\n",
    "    \"\"\"\n",
    "    Args:\n",
    "        words: iterable\n",
    "    Returns:\n",
    "        Positive (summed vectors) of word embeddings of a given list of words.\n",
    "    \"\"\"\n",
    "    if isinstance(words, str):\n",
    "        print(f\"You requested the positive of the string \\\"{words}\\\". Did you mean [\\\"{words}\\\"]?\")\n",
    "\n",
    "    out = 0\n",
    "    for token in words:\n",
    "        # convert token to string\n",
    "        word = str(token)        \n",
    "        # look for token in cached GPT embeds\n",
    "        if word in vocab:\n",
    "            ex = model_gpt[word]  # ex for \"extracted\"\n",
    "        # if not found, query API\n",
    "        else:\n",
    "            ex = gpt_embed(word)\n",
    "            model_gpt[word] = ex\n",
    "        \n",
    "\n",
    "        # construct positive\n",
    "        if isinstance(out, int):\n",
    "            out = np.array(ex).reshape(1, -1)\n",
    "        else:\n",
    "            out += np.array(ex).reshape(1, -1)\n",
    "            \n",
    "    return out if not isinstance(out, int) else np.array([])"
   ]
  },
  {
   "cell_type": "code",
   "execution_count": 7,
   "metadata": {},
   "outputs": [],
   "source": [
    "def define(word, top_n=10):\n",
    "    \"\"\"\n",
    "    Args:\n",
    "        word: str   -> Single word to define\n",
    "        top_n: int  -> Number of best solutions to return. Defualt 10.\n",
    "    Return:\n",
    "        N 2-word definition pairs, ordered by similarity to word.\n",
    "    \"\"\"\n",
    "    history = []\n",
    "    target = positive([word])\n",
    "    for i in tqdm(range(len(vocab))):\n",
    "        w1 = vocab[i]\n",
    "        if w1 == word:\n",
    "            continue\n",
    "        elif w1[:3] == word[:3]:\n",
    "            continue\n",
    "        elif w1 in removed:\n",
    "            continue\n",
    "        for j in range(i+1, len(vocab)):\n",
    "            w2 = vocab[j]\n",
    "            if w2 == word:\n",
    "                continue\n",
    "            elif word[:3] == w2[:3]:\n",
    "                continue\n",
    "            elif w2 in removed:\n",
    "                continue\n",
    "            p = positive([w1, w2])\n",
    "            history.append(((w1, w2), cosine_similarity(target, p)[0][0]))\n",
    "    history.sort(key=lambda x: x[1], reverse=True)\n",
    "    return history[:top_n]\n"
   ]
  },
  {
   "cell_type": "markdown",
   "metadata": {},
   "source": [
    "## Testing"
   ]
  },
  {
   "cell_type": "code",
   "execution_count": 8,
   "metadata": {},
   "outputs": [
    {
     "data": {
      "application/vnd.jupyter.widget-view+json": {
       "model_id": "b7d9398972b54e6f9ceb0c05a60aeb12",
       "version_major": 2,
       "version_minor": 0
      },
      "text/plain": [
       "  0%|          | 0/5124 [00:00<?, ?it/s]"
      ]
     },
     "metadata": {},
     "output_type": "display_data"
    },
    {
     "data": {
      "text/plain": [
       "[(('logical', 'reasoning'), 0.9236378390372653),\n",
       " (('reasoning', 'sensible'), 0.9205015500512653),\n",
       " (('logic', 'sensible'), 0.9202925336095696),\n",
       " (('irrationals', 'logical'), 0.9189462622168958),\n",
       " (('intelligence', 'logical'), 0.9185250022595706),\n",
       " (('logical', 'morality'), 0.916561303777381),\n",
       " (('logic', 'reasoning'), 0.9156371956966491),\n",
       " (('consciousness', 'logical'), 0.9154282228476602),\n",
       " (('justification', 'logical'), 0.9148433828940656),\n",
       " (('intellectual', 'logic'), 0.9144802283983318)]"
      ]
     },
     "execution_count": 8,
     "metadata": {},
     "output_type": "execute_result"
    }
   ],
   "source": [
    "define('rationality')"
   ]
  },
  {
   "cell_type": "code",
   "execution_count": 9,
   "metadata": {},
   "outputs": [
    {
     "data": {
      "application/vnd.jupyter.widget-view+json": {
       "model_id": "ec60433230e94169abab61b21d02f8e4",
       "version_major": 2,
       "version_minor": 0
      },
      "text/plain": [
       "  0%|          | 0/5124 [00:00<?, ?it/s]"
      ]
     },
     "metadata": {},
     "output_type": "display_data"
    },
    {
     "data": {
      "text/plain": [
       "[(('logical', 'reasonable'), 0.9352942080125957),\n",
       " (('logical', 'reasoning'), 0.9314047850333993),\n",
       " (('reasoning', 'sensible'), 0.9313178091732618),\n",
       " (('logical', 'reason'), 0.9310238912485518),\n",
       " (('logical', 'sensible'), 0.9289080589303863),\n",
       " (('logical', 'responsible'), 0.9271758759284697),\n",
       " (('reasonable', 'reasoning'), 0.9245481228917478),\n",
       " (('logical', 'secular'), 0.9235975565901939),\n",
       " (('logic', 'reasonable'), 0.9234628222144656),\n",
       " (('educated', 'logical'), 0.9232373795706632)]"
      ]
     },
     "execution_count": 9,
     "metadata": {},
     "output_type": "execute_result"
    }
   ],
   "source": [
    "define('rational')"
   ]
  },
  {
   "cell_type": "code",
   "execution_count": 10,
   "metadata": {},
   "outputs": [
    {
     "data": {
      "application/vnd.jupyter.widget-view+json": {
       "model_id": "ef1153efc15f4b3e84c6fc4488ff01aa",
       "version_major": 2,
       "version_minor": 0
      },
      "text/plain": [
       "  0%|          | 0/5124 [00:00<?, ?it/s]"
      ]
     },
     "metadata": {},
     "output_type": "display_data"
    },
    {
     "data": {
      "text/plain": [
       "[(('control', 'independence'), 0.9176713641431526),\n",
       " (('ability', 'independence'), 0.9168004014325604),\n",
       " (('independence', 'voluntary'), 0.9159498698260641),\n",
       " (('independence', 'mobility'), 0.9152721630363441),\n",
       " (('empower', 'independence'), 0.9147063523309407),\n",
       " (('agency', 'independence'), 0.9135151453933545),\n",
       " (('capable', 'independence'), 0.9128610502892247),\n",
       " (('capability', 'independence'), 0.9127564036532756),\n",
       " (('freedom', 'independent'), 0.9109920185631024),\n",
       " (('choice', 'independence'), 0.9106141201165177)]"
      ]
     },
     "execution_count": 10,
     "metadata": {},
     "output_type": "execute_result"
    }
   ],
   "source": [
    "define('autonomy')"
   ]
  },
  {
   "cell_type": "code",
   "execution_count": 11,
   "metadata": {},
   "outputs": [
    {
     "data": {
      "application/vnd.jupyter.widget-view+json": {
       "model_id": "b1fe060dc29b46d6a18fa09f44826e9e",
       "version_major": 2,
       "version_minor": 0
      },
      "text/plain": [
       "  0%|          | 0/5124 [00:00<?, ?it/s]"
      ]
     },
     "metadata": {},
     "output_type": "display_data"
    },
    {
     "data": {
      "text/plain": [
       "[(('independent', 'machine'), 0.9009231099456976),\n",
       " (('controlled', 'independent'), 0.8990937878966357),\n",
       " (('independent', 'vehicle'), 0.8986279517217186),\n",
       " (('driving', 'independent'), 0.8985094168537435),\n",
       " (('independent', 'technological'), 0.8982868281817474),\n",
       " (('independent', 'motor'), 0.8976942219243362),\n",
       " (('drive', 'independent'), 0.8966839881924915),\n",
       " (('independent', 'technology'), 0.8959370135885891),\n",
       " (('capable', 'independent'), 0.8948874835710563),\n",
       " (('artificial', 'independent'), 0.8946289778669951)]"
      ]
     },
     "execution_count": 11,
     "metadata": {},
     "output_type": "execute_result"
    }
   ],
   "source": [
    "define('autonomous')"
   ]
  },
  {
   "cell_type": "code",
   "execution_count": 12,
   "metadata": {},
   "outputs": [
    {
     "data": {
      "application/vnd.jupyter.widget-view+json": {
       "model_id": "dfda43fde05e41a387afac82132806ea",
       "version_major": 2,
       "version_minor": 0
      },
      "text/plain": [
       "  0%|          | 0/5124 [00:00<?, ?it/s]"
      ]
     },
     "metadata": {},
     "output_type": "display_data"
    },
    {
     "data": {
      "text/plain": [
       "[(('fairness', 'judicial'), 0.9169658769923914),\n",
       " (('injustice', 'judicial'), 0.9139449207954286),\n",
       " (('judicial', 'revenge'), 0.91302445971826),\n",
       " (('injustice', 'law'), 0.9124230652492498),\n",
       " (('equality', 'judicial'), 0.91220058004136),\n",
       " (('fairness', 'injustice'), 0.9113156444647046),\n",
       " (('injustice', 'legal'), 0.9109533753958927),\n",
       " (('fairness', 'law'), 0.9094653404032378),\n",
       " (('conviction', 'fairness'), 0.9077942877275789),\n",
       " (('fairness', 'judge'), 0.9076338222655296)]"
      ]
     },
     "execution_count": 12,
     "metadata": {},
     "output_type": "execute_result"
    }
   ],
   "source": [
    "define('justice')"
   ]
  },
  {
   "cell_type": "code",
   "execution_count": 13,
   "metadata": {},
   "outputs": [
    {
     "data": {
      "application/vnd.jupyter.widget-view+json": {
       "model_id": "05d2a1aded7240efbc827cc40aac448e",
       "version_major": 2,
       "version_minor": 0
      },
      "text/plain": [
       "  0%|          | 0/5124 [00:00<?, ?it/s]"
      ]
     },
     "metadata": {},
     "output_type": "display_data"
    },
    {
     "data": {
      "text/plain": [
       "[(('consequence', 'correlation'), 0.9104671869226033),\n",
       " (('correlation', 'motive'), 0.9104510736959889),\n",
       " (('correlation', 'explanation'), 0.909513442705769),\n",
       " (('accusation', 'correlation'), 0.9080739173570319),\n",
       " (('correlation', 'implication'), 0.9068008479792724),\n",
       " (('correlation', 'meaning'), 0.9066976471304113),\n",
       " (('blame', 'correlation'), 0.9064746006055001),\n",
       " (('correlation', 'inflict'), 0.9055786205249134),\n",
       " (('correlation', 'reasoning'), 0.9051633801481334),\n",
       " (('correlation', 'reason'), 0.9045853393082224)]"
      ]
     },
     "execution_count": 13,
     "metadata": {},
     "output_type": "execute_result"
    }
   ],
   "source": [
    "define('causation')"
   ]
  },
  {
   "cell_type": "code",
   "execution_count": 14,
   "metadata": {},
   "outputs": [
    {
     "data": {
      "application/vnd.jupyter.widget-view+json": {
       "model_id": "5394d53e116b465d8f59e16951a819be",
       "version_major": 2,
       "version_minor": 0
      },
      "text/plain": [
       "  0%|          | 0/5124 [00:00<?, ?it/s]"
      ]
     },
     "metadata": {},
     "output_type": "display_data"
    },
    {
     "data": {
      "text/plain": [
       "[(('only', 'simply'), 0.9448832054411789),\n",
       " (('let', 'simply'), 0.942104610093907),\n",
       " (('now', 'simply'), 0.9409072340536551),\n",
       " (('even', 'simply'), 0.9401085493086702),\n",
       " (('it', 'simply'), 0.9401066745033336),\n",
       " (('simply', 'you'), 0.9388005343282892),\n",
       " (('its', 'simply'), 0.9387688173034998),\n",
       " (('simply', 'that'), 0.9377642204997771),\n",
       " (('simply', 'so'), 0.9376201349250803),\n",
       " (('about', 'simply'), 0.937447436557485)]"
      ]
     },
     "execution_count": 14,
     "metadata": {},
     "output_type": "execute_result"
    }
   ],
   "source": [
    "define('just')"
   ]
  },
  {
   "cell_type": "code",
   "execution_count": 8,
   "metadata": {},
   "outputs": [
    {
     "data": {
      "application/vnd.jupyter.widget-view+json": {
       "model_id": "db251413f9494f9aa85e2cd1bc1b9cfb",
       "version_major": 2,
       "version_minor": 0
      },
      "text/plain": [
       "  0%|          | 0/5124 [00:00<?, ?it/s]"
      ]
     },
     "metadata": {},
     "output_type": "display_data"
    },
    {
     "data": {
      "text/plain": [
       "[(('because', 'reason'), 0.9615349029068294),\n",
       " (('because', 'why'), 0.9572227863889586),\n",
       " (('because', 'meaning'), 0.9521307683501476),\n",
       " (('because', 'what'), 0.9493657960062949),\n",
       " (('because', 'it'), 0.9490328645473978),\n",
       " (('because', 'due'), 0.9487557434432554),\n",
       " (('because', 'reasoning'), 0.9464412745537372),\n",
       " (('because', 'cue'), 0.9459514815471586),\n",
       " (('because', 'see'), 0.9457072700012377),\n",
       " (('because', 'excuse'), 0.9453266473754052)]"
      ]
     },
     "execution_count": 8,
     "metadata": {},
     "output_type": "execute_result"
    }
   ],
   "source": [
    "define('cause')"
   ]
  },
  {
   "cell_type": "code",
   "execution_count": 9,
   "metadata": {},
   "outputs": [
    {
     "data": {
      "application/vnd.jupyter.widget-view+json": {
       "model_id": "bd0f30aa46744a268d88ace3cce164df",
       "version_major": 2,
       "version_minor": 0
      },
      "text/plain": [
       "  0%|          | 0/5124 [00:00<?, ?it/s]"
      ]
     },
     "metadata": {},
     "output_type": "display_data"
    },
    {
     "data": {
      "text/plain": [
       "[(('cause', 'simply'), 0.9034025678675263),\n",
       " (('cause', 'merely'), 0.9025809311069781),\n",
       " (('cause', 'whatever'), 0.9017344035499266),\n",
       " (('cause', 'nothing'), 0.9015376888213907),\n",
       " (('anything', 'cause'), 0.8988013514554598),\n",
       " (('absolutely', 'cause'), 0.8982836101873098),\n",
       " (('cause', 'harmless'), 0.8980415076205842),\n",
       " (('cause', 'literally'), 0.8976588057763424),\n",
       " (('cause', 'straightforward'), 0.8966629616795214),\n",
       " (('anywhere', 'cause'), 0.8965709584419106)]"
      ]
     },
     "execution_count": 9,
     "metadata": {},
     "output_type": "execute_result"
    }
   ],
   "source": [
    "define('just cause')"
   ]
  },
  {
   "cell_type": "code",
   "execution_count": 8,
   "metadata": {},
   "outputs": [
    {
     "data": {
      "application/vnd.jupyter.widget-view+json": {
       "model_id": "e90cdaf3c1854aca9c8bc8dc70240386",
       "version_major": 2,
       "version_minor": 0
      },
      "text/plain": [
       "  0%|          | 0/5124 [00:00<?, ?it/s]"
      ]
     },
     "metadata": {},
     "output_type": "display_data"
    },
    {
     "data": {
      "text/plain": [
       "[(('affection', 'it'), 0.913852799640186),\n",
       " (('beloved', 'feel'), 0.9135634896853682),\n",
       " (('beloved', 'life'), 0.9132379371875783),\n",
       " (('beloved', 'do'), 0.9116626664562676),\n",
       " (('beloved', 'want'), 0.9114975850394866),\n",
       " (('affection', 'life'), 0.9114522414185163),\n",
       " (('beloved', 'it'), 0.9113298497037856),\n",
       " (('happy', 'romance'), 0.9105326284004531),\n",
       " (('beloved', 'joy'), 0.9105105800771522),\n",
       " (('affection', 'great'), 0.9103923758725514)]"
      ]
     },
     "execution_count": 8,
     "metadata": {},
     "output_type": "execute_result"
    }
   ],
   "source": [
    "define('love')"
   ]
  },
  {
   "cell_type": "code",
   "execution_count": 9,
   "metadata": {},
   "outputs": [
    {
     "data": {
      "application/vnd.jupyter.widget-view+json": {
       "model_id": "fbe3b346197149b18a21ab0192c53c30",
       "version_major": 2,
       "version_minor": 0
      },
      "text/plain": [
       "  0%|          | 0/5124 [00:00<?, ?it/s]"
      ]
     },
     "metadata": {},
     "output_type": "display_data"
    },
    {
     "data": {
      "text/plain": [
       "[(('life', 'present'), 0.9235225155707034),\n",
       " (('living', 'reality'), 0.9217474860855248),\n",
       " (('life', 'reality'), 0.9214876090573696),\n",
       " (('life', 'presence'), 0.921285916970616),\n",
       " (('humanity', 'life'), 0.920512157350976),\n",
       " (('life', 'universe'), 0.9195330487064619),\n",
       " (('living', 'universe'), 0.9191978911722407),\n",
       " (('alive', 'reality'), 0.9188024098362333),\n",
       " (('consciousness', 'life'), 0.917877279808574),\n",
       " (('awareness', 'life'), 0.9175019269218476)]"
      ]
     },
     "execution_count": 9,
     "metadata": {},
     "output_type": "execute_result"
    }
   ],
   "source": [
    "define('existence')"
   ]
  },
  {
   "cell_type": "code",
   "execution_count": 10,
   "metadata": {},
   "outputs": [
    {
     "data": {
      "application/vnd.jupyter.widget-view+json": {
       "model_id": "0c9d9e661d7b4364aa2e90c85ead1ed9",
       "version_major": 2,
       "version_minor": 0
      },
      "text/plain": [
       "  0%|          | 0/5124 [00:00<?, ?it/s]"
      ]
     },
     "metadata": {},
     "output_type": "display_data"
    },
    {
     "data": {
      "text/plain": [
       "[(('fact', 'honesty'), 0.9423272183989945),\n",
       " (('honest', 'reality'), 0.9385416468356156),\n",
       " (('honesty', 'reality'), 0.9374780802633441),\n",
       " (('fact', 'honest'), 0.9339651124728772),\n",
       " (('fact', 'reality'), 0.9328737000242066),\n",
       " (('honesty', 'real'), 0.9284915520374593),\n",
       " (('actual', 'honesty'), 0.9283351943495234),\n",
       " (('correct', 'reality'), 0.9260168223429192),\n",
       " (('reality', 'statement'), 0.9252149587836899),\n",
       " (('genuine', 'reality'), 0.9245466679637222)]"
      ]
     },
     "execution_count": 10,
     "metadata": {},
     "output_type": "execute_result"
    }
   ],
   "source": [
    "define('truth')"
   ]
  },
  {
   "cell_type": "code",
   "execution_count": 11,
   "metadata": {},
   "outputs": [
    {
     "data": {
      "application/vnd.jupyter.widget-view+json": {
       "model_id": "f4f3abb78dce4fba91f2968b6d2787dd",
       "version_major": 2,
       "version_minor": 0
      },
      "text/plain": [
       "  0%|          | 0/5124 [00:00<?, ?it/s]"
      ]
     },
     "metadata": {},
     "output_type": "display_data"
    },
    {
     "data": {
      "text/plain": [
       "[(('equality', 'unfair'), 0.9236785946985764),\n",
       " (('equality', 'reasonable'), 0.9233268354685615),\n",
       " (('balanced', 'equality'), 0.922996500470749),\n",
       " (('equality', 'reasonably'), 0.9178974745666189),\n",
       " (('equality', 'proportion'), 0.9171624301464034),\n",
       " (('equality', 'justice'), 0.9169341138887268),\n",
       " (('equality', 'honest'), 0.9157407948356723),\n",
       " (('balance', 'equality'), 0.9138305857930888),\n",
       " (('balanced', 'justice'), 0.9133596870046445),\n",
       " (('acceptable', 'equality'), 0.9133578345243887)]"
      ]
     },
     "execution_count": 11,
     "metadata": {},
     "output_type": "execute_result"
    }
   ],
   "source": [
    "define('fairness')"
   ]
  },
  {
   "cell_type": "code",
   "execution_count": 12,
   "metadata": {},
   "outputs": [
    {
     "data": {
      "application/vnd.jupyter.widget-view+json": {
       "model_id": "17c1602df7884f2ab5f256bb6a532a7d",
       "version_major": 2,
       "version_minor": 0
      },
      "text/plain": [
       "  0%|          | 0/5124 [00:00<?, ?it/s]"
      ]
     },
     "metadata": {},
     "output_type": "display_data"
    },
    {
     "data": {
      "text/plain": [
       "[(('awake', 'living'), 0.9244589546391456),\n",
       " (('intact', 'living'), 0.9172714750694939),\n",
       " (('awake', 'live'), 0.9145581572449639),\n",
       " (('living', 'viable'), 0.913476171021951),\n",
       " (('live', 'living'), 0.9132929227333213),\n",
       " (('living', 'revive'), 0.9125944985865269),\n",
       " (('healthy', 'living'), 0.9117352648244113),\n",
       " (('living', 'survive'), 0.9111209511752293),\n",
       " (('active', 'living'), 0.9099464737070243),\n",
       " (('healthy', 'live'), 0.9099305456823676)]"
      ]
     },
     "execution_count": 12,
     "metadata": {},
     "output_type": "execute_result"
    }
   ],
   "source": [
    "define('alive')"
   ]
  },
  {
   "cell_type": "code",
   "execution_count": 13,
   "metadata": {},
   "outputs": [
    {
     "data": {
      "application/vnd.jupyter.widget-view+json": {
       "model_id": "70179609261b40a9a33ba604adb5195b",
       "version_major": 2,
       "version_minor": 0
      },
      "text/plain": [
       "  0%|          | 0/5124 [00:00<?, ?it/s]"
      ]
     },
     "metadata": {},
     "output_type": "display_data"
    },
    {
     "data": {
      "text/plain": [
       "[(('joy', 'pleased'), 0.9380997165103567),\n",
       " (('love', 'pleased'), 0.9369776219899391),\n",
       " (('day', 'pleased'), 0.936346720839541),\n",
       " (('cheerful', 'pleased'), 0.9362955014283465),\n",
       " (('cheer', 'pleased'), 0.9346571327966601),\n",
       " (('holiday', 'pleased'), 0.934442461019153),\n",
       " (('healthy', 'pleased'), 0.9344417259550396),\n",
       " (('good', 'pleased'), 0.9330100442206396),\n",
       " (('living', 'pleased'), 0.9329552693611364),\n",
       " (('pleased', 'warm'), 0.9326986595723271)]"
      ]
     },
     "execution_count": 13,
     "metadata": {},
     "output_type": "execute_result"
    }
   ],
   "source": [
    "define('happy')"
   ]
  },
  {
   "cell_type": "code",
   "execution_count": 14,
   "metadata": {},
   "outputs": [
    {
     "data": {
      "application/vnd.jupyter.widget-view+json": {
       "model_id": "f7a3b2f07e4d40cc9f9d4a8ac69211f7",
       "version_major": 2,
       "version_minor": 0
      },
      "text/plain": [
       "  0%|          | 0/5124 [00:00<?, ?it/s]"
      ]
     },
     "metadata": {},
     "output_type": "display_data"
    },
    {
     "data": {
      "text/plain": [
       "[(('culture', 'draw'), 0.9061392034944346),\n",
       " (('craft', 'drawing'), 0.9033266265925499),\n",
       " (('craft', 'draw'), 0.9030943091310318),\n",
       " (('draw', 'music'), 0.9019598434491427),\n",
       " (('culture', 'drawing'), 0.9016303597957094),\n",
       " (('craft', 'paint'), 0.8998578561845794),\n",
       " (('draw', 'museum'), 0.8996847721595432),\n",
       " (('drawing', 'music'), 0.8993834173858664),\n",
       " (('design', 'drawing'), 0.8987077898198781),\n",
       " (('design', 'paint'), 0.898414938148733)]"
      ]
     },
     "execution_count": 14,
     "metadata": {},
     "output_type": "execute_result"
    }
   ],
   "source": [
    "define('art')"
   ]
  }
 ],
 "metadata": {
  "interpreter": {
   "hash": "1a58f2b50cba0e3ef60ddaac0060fcc6c1f1afd3fbbcd44f07b68475f7ee4549"
  },
  "kernelspec": {
   "display_name": "Python 3.9.13 64-bit ('aca': conda)",
   "name": "python3"
  },
  "language_info": {
   "codemirror_mode": {
    "name": "ipython",
    "version": 3
   },
   "file_extension": ".py",
   "mimetype": "text/x-python",
   "name": "python",
   "nbconvert_exporter": "python",
   "pygments_lexer": "ipython3",
   "version": "3.9.13"
  },
  "orig_nbformat": 4
 },
 "nbformat": 4,
 "nbformat_minor": 2
}
